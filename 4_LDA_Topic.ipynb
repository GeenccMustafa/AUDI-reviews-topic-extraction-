{
 "cells": [
  {
   "cell_type": "code",
   "execution_count": 4,
   "id": "0f207028-10dd-443a-9b82-1fd51b71e994",
   "metadata": {},
   "outputs": [
    {
     "name": "stderr",
     "output_type": "stream",
     "text": [
      "[nltk_data] Downloading package stopwords to\n",
      "[nltk_data]     /Users/de11675/nltk_data...\n",
      "[nltk_data]   Package stopwords is already up-to-date!\n"
     ]
    }
   ],
   "source": [
    "import pandas as pd\n",
    "import numpy as np\n",
    "\n",
    "import re\n",
    "import string\n",
    "\n",
    "import spacy\n",
    "\n",
    "import gensim\n",
    "from gensim import corpora\n",
    "\n",
    "# libraries for visualization\n",
    "import pyLDAvis\n",
    "import pyLDAvis.gensim_models\n",
    "import matplotlib.pyplot as plt\n",
    "import seaborn as sns\n",
    "%matplotlib inline\n",
    "\n",
    "import nltk\n",
    "#nltk.download('stopwords') # run this one time\n",
    "\n",
    "import warnings\n",
    "warnings.filterwarnings(\"ignore\")"
   ]
  },
  {
   "cell_type": "code",
   "execution_count": 2,
   "id": "d106e792-2823-4362-892c-43afe9eb1281",
   "metadata": {},
   "outputs": [
    {
     "name": "stdout",
     "output_type": "stream",
     "text": [
      "                                          eng_review  \\\n",
      "0  friendly welcome extra helpful they gave detai...   \n",
      "1  excellent service and an overall great experie...   \n",
      "\n",
      "                                    lemma_eng_review  \\\n",
      "0  friendly welcome extra helpful they give detai...   \n",
      "1  excellent service and an overall great experie...   \n",
      "\n",
      "                                         rev_stopped  \\\n",
      "0  friendly welcome extra helpful gave detailed a...   \n",
      "1  excellent service overall great experience got...   \n",
      "\n",
      "                                       lemma_stopped  \n",
      "0  friendly welcome extra helpful detailed answer...  \n",
      "1  excellent service overall great experience exp...  \n",
      "6519\n"
     ]
    }
   ],
   "source": [
    "english= pd.read_csv(\"english.csv\")\n",
    "print(english.head(2))\n",
    "print(len(english))"
   ]
  },
  {
   "cell_type": "code",
   "execution_count": 3,
   "id": "1469ca61-029e-421e-9d3b-d8393517d38c",
   "metadata": {},
   "outputs": [],
   "source": [
    "def clean_text(text ): \n",
    "    delete_dict = {sp_character: '' for sp_character in string.punctuation} \n",
    "    delete_dict[' '] = ' ' \n",
    "    table = str.maketrans(delete_dict)\n",
    "    text1 = text.translate(table)\n",
    "    #print('cleaned:'+text1)\n",
    "    textArr= text1.split()\n",
    "    text2 = ' '.join([w for w in textArr if ( not w.isdigit() and  ( not w.isdigit() and len(w)>3))]) \n",
    "    \n",
    "    return text2.lower()"
   ]
  },
  {
   "cell_type": "code",
   "execution_count": 5,
   "id": "85b1da77-6cdf-4326-acff-da5828cd5dfb",
   "metadata": {},
   "outputs": [
    {
     "name": "stdout",
     "output_type": "stream",
     "text": [
      "-------Dataset --------\n",
      "6479\n",
      "-------------------------\n",
      "No of Short reviews\n",
      "2321\n"
     ]
    }
   ],
   "source": [
    "english.dropna(axis = 0, how ='any',inplace=True) \n",
    "\n",
    "english['eng_review'] = english['eng_review'].apply(clean_text)\n",
    "english['Num_words_text'] = english['eng_review'].apply(lambda x:len(str(x).split())) \n",
    "\n",
    "print('-------Dataset --------')\n",
    "print(len(english))\n",
    "print('-------------------------')\n",
    "max_review_data_sentence_length  = english['Num_words_text'].max()\n",
    "\n",
    "mask = (english['Num_words_text'] < 100) & (english['Num_words_text'] >=20)\n",
    "df_short_reviews = english[mask]\n",
    "\n",
    "print('No of Short reviews')\n",
    "print(len(df_short_reviews))"
   ]
  },
  {
   "cell_type": "code",
   "execution_count": 6,
   "id": "8d66eaf8-6069-416c-ae34-e08835b98121",
   "metadata": {},
   "outputs": [],
   "source": [
    "# pre process data\n",
    "from nltk.corpus import stopwords\n",
    "stop_words = stopwords.words('english')\n",
    "# function to remove stopwords\n",
    "def remove_stopwords(text):\n",
    "    textArr = text.split(' ')\n",
    "    rem_text = \" \".join([i for i in textArr if i not in stop_words])\n",
    "    return rem_text\n",
    "\n",
    "# remove stopwords from the text\n",
    "english['eng_review']=english['eng_review'].apply(remove_stopwords)"
   ]
  },
  {
   "cell_type": "code",
   "execution_count": 7,
   "id": "7a9134a5-5426-4c9d-b013-0640f7c41f87",
   "metadata": {},
   "outputs": [],
   "source": [
    "import en_core_web_sm\n",
    "\n",
    "nlp = en_core_web_sm.load()\n",
    "\n",
    "def lemmatization(texts,allowed_postags=['NOUN', 'ADJ']): \n",
    "    output = []\n",
    "    for sent in texts:\n",
    "        doc = nlp(sent) \n",
    "        output.append([token.lemma_ for token in doc if token.pos_ in allowed_postags ])\n",
    "    return output"
   ]
  },
  {
   "cell_type": "code",
   "execution_count": 8,
   "id": "148ca5e8-3857-49fa-ac4a-61861fec8a7c",
   "metadata": {},
   "outputs": [
    {
     "name": "stdout",
     "output_type": "stream",
     "text": [
      "excellent service overall great experience express service appointment next friendly customer oriented service always reachable transparent work costs great communication also third party needed involved case recommendation\n",
      "['excellent', 'service', 'overall', 'great', 'experience', 'express', 'service', 'appointment', 'friendly', 'customer', 'service', 'reachable', 'transparent', 'work', 'great', 'communication', 'third', 'party', 'involved', 'case', 'recommendation']\n"
     ]
    }
   ],
   "source": [
    "text_list=english['eng_review'].tolist()\n",
    "print(text_list[1])\n",
    "tokenized_reviews = lemmatization(text_list)\n",
    "print(tokenized_reviews[1])"
   ]
  },
  {
   "cell_type": "code",
   "execution_count": 9,
   "id": "7881c0c7-e102-442a-a0d6-0b4c224ce523",
   "metadata": {},
   "outputs": [],
   "source": [
    "#Create vocabulary dictionary and document term matrix\n",
    "\n",
    "dictionary = corpora.Dictionary(tokenized_reviews)\n",
    "doc_term_matrix = [dictionary.doc2bow(rev) for rev in tokenized_reviews]"
   ]
  },
  {
   "cell_type": "code",
   "execution_count": 10,
   "id": "a7696f41-f05e-4666-8da3-6e92d492b3be",
   "metadata": {},
   "outputs": [],
   "source": [
    "# Creating the object for LDA model using gensim library\n",
    "LDA = gensim.models.ldamodel.LdaModel\n",
    "\n",
    "# Build LDA model\n",
    "lda_model = LDA(corpus=doc_term_matrix, id2word=dictionary, num_topics=10, random_state=100,\n",
    "                chunksize=1000, passes=50,iterations=100)"
   ]
  },
  {
   "cell_type": "code",
   "execution_count": 11,
   "id": "d71b2443-4856-4158-826f-0ee5b098f1e2",
   "metadata": {},
   "outputs": [
    {
     "data": {
      "text/plain": [
       "[(0,\n",
       "  '0.029*\"service\" + 0.027*\"workshop\" + 0.024*\"part\" + 0.021*\"repair\" + 0.017*\"cost\" + 0.017*\"rental\" + 0.016*\"problem\" + 0.015*\"time\" + 0.014*\"week\" + 0.012*\"free\"'),\n",
       " (1,\n",
       "  '0.038*\"time\" + 0.017*\"year\" + 0.014*\"vehicle\" + 0.014*\"damage\" + 0.013*\"customer\" + 0.013*\"problem\" + 0.012*\"company\" + 0.012*\"employee\" + 0.011*\"care\" + 0.011*\"contract\"'),\n",
       " (2,\n",
       "  '0.088*\"customer\" + 0.082*\"service\" + 0.022*\"vehicle\" + 0.021*\"time\" + 0.018*\"year\" + 0.017*\"good\" + 0.015*\"advisor\" + 0.014*\"problem\" + 0.014*\"dealership\" + 0.013*\"employee\"'),\n",
       " (3,\n",
       "  '0.074*\"much\" + 0.029*\"handling\" + 0.015*\"wish\" + 0.014*\"pleasure\" + 0.013*\"other\" + 0.013*\"hose\" + 0.012*\"arrogant\" + 0.012*\"family\" + 0.011*\"worth\" + 0.011*\"event\"'),\n",
       " (4,\n",
       "  '0.137*\"friendly\" + 0.108*\"staff\" + 0.081*\"service\" + 0.060*\"nice\" + 0.048*\"competent\" + 0.036*\"great\" + 0.032*\"super\" + 0.029*\"good\" + 0.028*\"helpful\" + 0.013*\"courteous\"'),\n",
       " (5,\n",
       "  '0.066*\"seller\" + 0.050*\"car\" + 0.030*\"dealership\" + 0.024*\"customer\" + 0.022*\"price\" + 0.018*\"interested\" + 0.016*\"good\" + 0.013*\"money\" + 0.011*\"impression\" + 0.010*\"fes\"'),\n",
       " (6,\n",
       "  '0.091*\"service\" + 0.091*\"great\" + 0.083*\"advice\" + 0.079*\"good\" + 0.045*\"thank\" + 0.040*\"competent\" + 0.035*\"friendly\" + 0.028*\"nice\" + 0.028*\"satisfied\" + 0.016*\"team\"'),\n",
       " (7,\n",
       "  '0.042*\"large\" + 0.040*\"selection\" + 0.033*\"dealer\" + 0.029*\"model\" + 0.026*\"vehicle\" + 0.025*\"car\" + 0.017*\"parking\" + 0.016*\"nice\" + 0.013*\"audi\" + 0.013*\"choice\"'),\n",
       " (8,\n",
       "  '0.044*\"vehicle\" + 0.025*\"purchase\" + 0.023*\"friendly\" + 0.022*\"question\" + 0.022*\"advice\" + 0.021*\"dealership\" + 0.021*\"thank\" + 0.020*\"time\" + 0.018*\"competent\" + 0.016*\"seller\"'),\n",
       " (9,\n",
       "  '0.052*\"appointment\" + 0.026*\"tire\" + 0.025*\"test\" + 0.025*\"time\" + 0.024*\"drive\" + 0.022*\"phone\" + 0.017*\"hour\" + 0.017*\"customer\" + 0.015*\"short\" + 0.015*\"email\"')]"
      ]
     },
     "execution_count": 11,
     "metadata": {},
     "output_type": "execute_result"
    }
   ],
   "source": [
    "lda_model.print_topics()"
   ]
  },
  {
   "cell_type": "code",
   "execution_count": 12,
   "id": "7a11d76a-84ff-461f-b4b2-af7656e5795b",
   "metadata": {},
   "outputs": [
    {
     "name": "stderr",
     "output_type": "stream",
     "text": [
      "/opt/anaconda3/lib/python3.9/site-packages/past/builtins/misc.py:45: DeprecationWarning: the imp module is deprecated in favour of importlib; see the module's documentation for alternative uses\n",
      "  from imp import reload\n",
      "/opt/anaconda3/lib/python3.9/site-packages/past/builtins/misc.py:45: DeprecationWarning: the imp module is deprecated in favour of importlib; see the module's documentation for alternative uses\n",
      "  from imp import reload\n",
      "/opt/anaconda3/lib/python3.9/site-packages/past/builtins/misc.py:45: DeprecationWarning: the imp module is deprecated in favour of importlib; see the module's documentation for alternative uses\n",
      "  from imp import reload\n",
      "/opt/anaconda3/lib/python3.9/site-packages/past/builtins/misc.py:45: DeprecationWarning: the imp module is deprecated in favour of importlib; see the module's documentation for alternative uses\n",
      "  from imp import reload\n",
      "/opt/anaconda3/lib/python3.9/site-packages/past/builtins/misc.py:45: DeprecationWarning: the imp module is deprecated in favour of importlib; see the module's documentation for alternative uses\n",
      "  from imp import reload\n",
      "/opt/anaconda3/lib/python3.9/site-packages/past/builtins/misc.py:45: DeprecationWarning: the imp module is deprecated in favour of importlib; see the module's documentation for alternative uses\n",
      "  from imp import reload\n",
      "/opt/anaconda3/lib/python3.9/site-packages/numexpr/expressions.py:21: DeprecationWarning: distutils Version classes are deprecated. Use packaging.version instead.\n",
      "  _np_version_forbids_neg_powint = LooseVersion(numpy.__version__) >= LooseVersion('1.12.0b1')\n",
      "/opt/anaconda3/lib/python3.9/site-packages/numexpr/expressions.py:21: DeprecationWarning: distutils Version classes are deprecated. Use packaging.version instead.\n",
      "  _np_version_forbids_neg_powint = LooseVersion(numpy.__version__) >= LooseVersion('1.12.0b1')\n",
      "/opt/anaconda3/lib/python3.9/site-packages/numexpr/expressions.py:21: DeprecationWarning: distutils Version classes are deprecated. Use packaging.version instead.\n",
      "  _np_version_forbids_neg_powint = LooseVersion(numpy.__version__) >= LooseVersion('1.12.0b1')\n",
      "/opt/anaconda3/lib/python3.9/site-packages/numexpr/expressions.py:21: DeprecationWarning: distutils Version classes are deprecated. Use packaging.version instead.\n",
      "  _np_version_forbids_neg_powint = LooseVersion(numpy.__version__) >= LooseVersion('1.12.0b1')\n",
      "/opt/anaconda3/lib/python3.9/site-packages/numexpr/expressions.py:21: DeprecationWarning: distutils Version classes are deprecated. Use packaging.version instead.\n",
      "  _np_version_forbids_neg_powint = LooseVersion(numpy.__version__) >= LooseVersion('1.12.0b1')\n",
      "/opt/anaconda3/lib/python3.9/site-packages/numexpr/expressions.py:21: DeprecationWarning: distutils Version classes are deprecated. Use packaging.version instead.\n",
      "  _np_version_forbids_neg_powint = LooseVersion(numpy.__version__) >= LooseVersion('1.12.0b1')\n",
      "/opt/anaconda3/lib/python3.9/site-packages/numexpr/expressions.py:21: DeprecationWarning: distutils Version classes are deprecated. Use packaging.version instead.\n",
      "  _np_version_forbids_neg_powint = LooseVersion(numpy.__version__) >= LooseVersion('1.12.0b1')\n",
      "/opt/anaconda3/lib/python3.9/site-packages/numexpr/expressions.py:21: DeprecationWarning: distutils Version classes are deprecated. Use packaging.version instead.\n",
      "  _np_version_forbids_neg_powint = LooseVersion(numpy.__version__) >= LooseVersion('1.12.0b1')\n",
      "/opt/anaconda3/lib/python3.9/site-packages/numexpr/expressions.py:21: DeprecationWarning: distutils Version classes are deprecated. Use packaging.version instead.\n",
      "  _np_version_forbids_neg_powint = LooseVersion(numpy.__version__) >= LooseVersion('1.12.0b1')\n",
      "/opt/anaconda3/lib/python3.9/site-packages/numexpr/expressions.py:21: DeprecationWarning: distutils Version classes are deprecated. Use packaging.version instead.\n",
      "  _np_version_forbids_neg_powint = LooseVersion(numpy.__version__) >= LooseVersion('1.12.0b1')\n",
      "/opt/anaconda3/lib/python3.9/site-packages/past/builtins/misc.py:45: DeprecationWarning: the imp module is deprecated in favour of importlib; see the module's documentation for alternative uses\n",
      "  from imp import reload\n",
      "/opt/anaconda3/lib/python3.9/site-packages/past/builtins/misc.py:45: DeprecationWarning: the imp module is deprecated in favour of importlib; see the module's documentation for alternative uses\n",
      "  from imp import reload\n",
      "/opt/anaconda3/lib/python3.9/site-packages/numexpr/expressions.py:21: DeprecationWarning: distutils Version classes are deprecated. Use packaging.version instead.\n",
      "  _np_version_forbids_neg_powint = LooseVersion(numpy.__version__) >= LooseVersion('1.12.0b1')\n",
      "/opt/anaconda3/lib/python3.9/site-packages/numexpr/expressions.py:21: DeprecationWarning: distutils Version classes are deprecated. Use packaging.version instead.\n",
      "  _np_version_forbids_neg_powint = LooseVersion(numpy.__version__) >= LooseVersion('1.12.0b1')\n",
      "/opt/anaconda3/lib/python3.9/site-packages/numexpr/expressions.py:21: DeprecationWarning: distutils Version classes are deprecated. Use packaging.version instead.\n",
      "  _np_version_forbids_neg_powint = LooseVersion(numpy.__version__) >= LooseVersion('1.12.0b1')\n",
      "/opt/anaconda3/lib/python3.9/site-packages/numexpr/expressions.py:21: DeprecationWarning: distutils Version classes are deprecated. Use packaging.version instead.\n",
      "  _np_version_forbids_neg_powint = LooseVersion(numpy.__version__) >= LooseVersion('1.12.0b1')\n",
      "/opt/anaconda3/lib/python3.9/site-packages/numexpr/expressions.py:21: DeprecationWarning: distutils Version classes are deprecated. Use packaging.version instead.\n",
      "  _np_version_forbids_neg_powint = LooseVersion(numpy.__version__) >= LooseVersion('1.12.0b1')\n",
      "/opt/anaconda3/lib/python3.9/site-packages/numexpr/expressions.py:21: DeprecationWarning: distutils Version classes are deprecated. Use packaging.version instead.\n",
      "  _np_version_forbids_neg_powint = LooseVersion(numpy.__version__) >= LooseVersion('1.12.0b1')\n"
     ]
    }
   ],
   "source": [
    "# Visualize the topics\n",
    "#https://github.com/bmabey/pyLDAvis\n",
    "#https://speakerdeck.com/bmabey/visualizing-topic-models\n",
    "import pyLDAvis.gensim_models as gensimvis\n",
    "\n",
    "pyLDAvis.enable_notebook()\n",
    "vis = gensimvis.prepare(lda_model, doc_term_matrix, dictionary)\n",
    "pyLDAvis.save_html(vis, \"top_5.html\")"
   ]
  },
  {
   "cell_type": "code",
   "execution_count": 16,
   "id": "ab7493f4-f092-4cba-8bd5-0c7061df2cd4",
   "metadata": {},
   "outputs": [
    {
     "name": "stdout",
     "output_type": "stream",
     "text": [
      "\n",
      "Perplexity:  -6.9406341952695865\n",
      "\n",
      "Coherence Score:  -4.62473167816283\n"
     ]
    }
   ],
   "source": [
    "print('\\nPerplexity: ', lda_model.log_perplexity(doc_term_matrix,total_docs=10000))  # a measure of how good the model is. lower the better.\n",
    "\n",
    "# Compute Coherence Score\n",
    "from gensim.models.coherencemodel import CoherenceModel\n",
    "coherence_model_lda = CoherenceModel(model=lda_model, texts=tokenized_reviews, dictionary=dictionary , coherence='u_mass')\n",
    "coherence_lda = coherence_model_lda.get_coherence()\n",
    "print('\\nCoherence Score: ', coherence_lda)"
   ]
  },
  {
   "cell_type": "code",
   "execution_count": 19,
   "id": "cf631bbd-186a-4c2b-b592-dcd2b128227f",
   "metadata": {},
   "outputs": [],
   "source": [
    "def compute_coherence_values(dictionary, corpus, texts, limit, start=2, step=3):\n",
    "    \"\"\"\n",
    "    Compute c_v coherence for various number of topics\n",
    "\n",
    "    Parameters:\n",
    "    ----------\n",
    "    dictionary : Gensim dictionary\n",
    "    corpus : Gensim corpus\n",
    "    texts : List of input texts\n",
    "    limit : Max num of topics\n",
    "\n",
    "    Returns:\n",
    "    -------\n",
    "    model_list : List of LDA topic models\n",
    "    coherence_values : Coherence values corresponding to the LDA model with respective number of topics\n",
    "    \"\"\"\n",
    "    coherence_values = []\n",
    "    model_list = []\n",
    "    for num_topics in range(start, limit, step):\n",
    "        model = gensim.models.ldamodel.LdaModel(corpus=corpus, num_topics=num_topics, id2word=dictionary)\n",
    "        model_list.append(model)\n",
    "        coherencemodel = CoherenceModel(model=model, texts=texts, dictionary=dictionary, coherence='u_mass')\n",
    "        coherence_values.append(coherencemodel.get_coherence())\n",
    "\n",
    "    return model_list, coherence_values"
   ]
  },
  {
   "cell_type": "code",
   "execution_count": 20,
   "id": "4f00b555-8deb-4992-ad25-ed2ff1778d05",
   "metadata": {},
   "outputs": [],
   "source": [
    "model_list, coherence_values = compute_coherence_values(dictionary=dictionary, corpus=doc_term_matrix, texts=tokenized_reviews, start=2, limit=50, step=1)\n"
   ]
  },
  {
   "cell_type": "code",
   "execution_count": 21,
   "id": "f5fd9cb7-89dc-42da-a442-09e7b24f9077",
   "metadata": {},
   "outputs": [
    {
     "data": {
      "image/png": "[encoded data removed]",
      "text/plain": [
       "<Figure size 432x288 with 1 Axes>"
      ]
     },
     "metadata": {
      "needs_background": "light"
     },
     "output_type": "display_data"
    }
   ],
   "source": [
    "# Show graph\n",
    "limit=50; start=2; step=1;\n",
    "x = range(start, limit, step)\n",
    "plt.plot(x, coherence_values)\n",
    "plt.xlabel(\"Num Topics\")\n",
    "plt.ylabel(\"Coherence score\")\n",
    "plt.legend((\"coherence_values\"), loc='best')\n",
    "plt.show()# Print the coherence scores"
   ]
  },
  {
   "cell_type": "code",
   "execution_count": 22,
   "id": "1b9451a3-4f50-4f75-9949-ac4e7695ddab",
   "metadata": {},
   "outputs": [
    {
     "name": "stdout",
     "output_type": "stream",
     "text": [
      "Num Topics = 2  has Coherence Value of -2.365\n",
      "Num Topics = 3  has Coherence Value of -2.3388\n",
      "Num Topics = 4  has Coherence Value of -2.4306\n",
      "Num Topics = 5  has Coherence Value of -2.4279\n",
      "Num Topics = 6  has Coherence Value of -2.4693\n",
      "Num Topics = 7  has Coherence Value of -2.5945\n",
      "Num Topics = 8  has Coherence Value of -2.9571\n",
      "Num Topics = 9  has Coherence Value of -4.4487\n",
      "Num Topics = 10  has Coherence Value of -3.6958\n",
      "Num Topics = 11  has Coherence Value of -4.6248\n",
      "Num Topics = 12  has Coherence Value of -3.3046\n",
      "Num Topics = 13  has Coherence Value of -3.7151\n",
      "Num Topics = 14  has Coherence Value of -4.1753\n",
      "Num Topics = 15  has Coherence Value of -3.7789\n",
      "Num Topics = 16  has Coherence Value of -4.2378\n",
      "Num Topics = 17  has Coherence Value of -4.3567\n",
      "Num Topics = 18  has Coherence Value of -3.7846\n",
      "Num Topics = 19  has Coherence Value of -3.8079\n",
      "Num Topics = 20  has Coherence Value of -4.1964\n",
      "Num Topics = 21  has Coherence Value of -4.1572\n",
      "Num Topics = 22  has Coherence Value of -4.8817\n",
      "Num Topics = 23  has Coherence Value of -4.5473\n",
      "Num Topics = 24  has Coherence Value of -4.7191\n",
      "Num Topics = 25  has Coherence Value of -4.8943\n",
      "Num Topics = 26  has Coherence Value of -5.1641\n",
      "Num Topics = 27  has Coherence Value of -5.234\n",
      "Num Topics = 28  has Coherence Value of -5.2937\n",
      "Num Topics = 29  has Coherence Value of -4.9046\n",
      "Num Topics = 30  has Coherence Value of -5.298\n",
      "Num Topics = 31  has Coherence Value of -5.0238\n",
      "Num Topics = 32  has Coherence Value of -5.4613\n",
      "Num Topics = 33  has Coherence Value of -5.4682\n",
      "Num Topics = 34  has Coherence Value of -5.1247\n",
      "Num Topics = 35  has Coherence Value of -5.2524\n",
      "Num Topics = 36  has Coherence Value of -5.0336\n",
      "Num Topics = 37  has Coherence Value of -5.327\n",
      "Num Topics = 38  has Coherence Value of -5.4101\n",
      "Num Topics = 39  has Coherence Value of -5.3992\n",
      "Num Topics = 40  has Coherence Value of -5.4339\n",
      "Num Topics = 41  has Coherence Value of -5.4212\n",
      "Num Topics = 42  has Coherence Value of -5.4573\n",
      "Num Topics = 43  has Coherence Value of -5.3481\n",
      "Num Topics = 44  has Coherence Value of -5.8757\n",
      "Num Topics = 45  has Coherence Value of -5.6524\n",
      "Num Topics = 46  has Coherence Value of -5.8384\n",
      "Num Topics = 47  has Coherence Value of -5.7063\n",
      "Num Topics = 48  has Coherence Value of -5.768\n",
      "Num Topics = 49  has Coherence Value of -5.7725\n"
     ]
    }
   ],
   "source": [
    "# Print the coherence scores\n",
    "for m, cv in zip(x, coherence_values):\n",
    "    print(\"Num Topics =\", m, \" has Coherence Value of\", round(cv, 4))"
   ]
  },
  {
   "cell_type": "code",
   "execution_count": 23,
   "id": "501a027c-32a9-4e1a-afed-dd9fc5d1f7cf",
   "metadata": {},
   "outputs": [
    {
     "data": {
      "text/plain": [
       "[(0,\n",
       "  '0.041*\"friendly\" + 0.036*\"dealership\" + 0.035*\"seller\" + 0.033*\"competent\" + 0.028*\"advice\" + 0.022*\"customer\" + 0.020*\"good\" + 0.020*\"great\" + 0.019*\"sale\" + 0.015*\"satisfied\"'),\n",
       " (1,\n",
       "  '0.030*\"service\" + 0.022*\"dealership\" + 0.022*\"appointment\" + 0.021*\"vehicle\" + 0.018*\"customer\" + 0.018*\"time\" + 0.018*\"problem\" + 0.013*\"phone\" + 0.012*\"friendly\" + 0.011*\"week\"'),\n",
       " (2,\n",
       "  '0.071*\"service\" + 0.068*\"friendly\" + 0.050*\"nice\" + 0.036*\"staff\" + 0.032*\"competent\" + 0.029*\"great\" + 0.029*\"advice\" + 0.028*\"good\" + 0.026*\"thank\" + 0.019*\"time\"'),\n",
       " (3,\n",
       "  '0.050*\"service\" + 0.037*\"good\" + 0.030*\"customer\" + 0.027*\"friendly\" + 0.017*\"dealership\" + 0.015*\"competent\" + 0.015*\"center\" + 0.014*\"advice\" + 0.013*\"time\" + 0.013*\"employee\"'),\n",
       " (4,\n",
       "  '0.039*\"tire\" + 0.028*\"service\" + 0.024*\"customer\" + 0.022*\"minute\" + 0.015*\"time\" + 0.012*\"appointment\" + 0.012*\"seller\" + 0.011*\"workshop\" + 0.010*\"hour\" + 0.010*\"good\"'),\n",
       " (5,\n",
       "  '0.089*\"great\" + 0.087*\"service\" + 0.060*\"good\" + 0.054*\"advice\" + 0.032*\"friendly\" + 0.026*\"competent\" + 0.023*\"car\" + 0.021*\"vehicle\" + 0.021*\"staff\" + 0.017*\"purchase\"'),\n",
       " (6,\n",
       "  '0.045*\"time\" + 0.045*\"vehicle\" + 0.025*\"customer\" + 0.018*\"service\" + 0.015*\"workshop\" + 0.015*\"good\" + 0.013*\"repair\" + 0.011*\"thank\" + 0.010*\"dealership\" + 0.009*\"next\"'),\n",
       " (7,\n",
       "  '0.022*\"breakdown\" + 0.020*\"service\" + 0.019*\"help\" + 0.010*\"sentence\" + 0.010*\"reliable\" + 0.010*\"reputable\" + 0.009*\"flat\" + 0.009*\"journey\" + 0.009*\"store\" + 0.009*\"repair\"'),\n",
       " (8,\n",
       "  '0.058*\"service\" + 0.036*\"nice\" + 0.027*\"customer\" + 0.025*\"good\" + 0.024*\"great\" + 0.019*\"staff\" + 0.018*\"vehicle\" + 0.014*\"friendly\" + 0.012*\"helpful\" + 0.012*\"work\"'),\n",
       " (9,\n",
       "  '0.063*\"satisfied\" + 0.053*\"thank\" + 0.036*\"advice\" + 0.031*\"service\" + 0.030*\"competent\" + 0.030*\"friendly\" + 0.027*\"many\" + 0.017*\"vehicle\" + 0.016*\"great\" + 0.016*\"perfect\"'),\n",
       " (10,\n",
       "  '0.019*\"seller\" + 0.018*\"audi\" + 0.017*\"good\" + 0.016*\"satisfaction\" + 0.016*\"exhibition\" + 0.015*\"price\" + 0.012*\"service\" + 0.012*\"complete\" + 0.012*\"question\" + 0.011*\"friendly\"')]"
      ]
     },
     "execution_count": 23,
     "metadata": {},
     "output_type": "execute_result"
    }
   ],
   "source": [
    "# Select the model and print the topics\n",
    "optimal_model = model_list[9]\n",
    "model_topics = optimal_model.show_topics(formatted=False)\n",
    "optimal_model.print_topics(num_words=10)"
   ]
  },
  {
   "cell_type": "code",
   "execution_count": null,
   "id": "4335b65f-1c8e-44df-ae6e-3abbe50d2bed",
   "metadata": {},
   "outputs": [],
   "source": []
  }
 ],
 "metadata": {
  "kernelspec": {
   "display_name": "Python 3 (ipykernel)",
   "language": "python",
   "name": "python3"
  },
  "language_info": {
   "codemirror_mode": {
    "name": "ipython",
    "version": 3
   },
   "file_extension": ".py",
   "mimetype": "text/x-python",
   "name": "python",
   "nbconvert_exporter": "python",
   "pygments_lexer": "ipython3",
   "version": "3.9.7"
  }
 },
 "nbformat": 4,
 "nbformat_minor": 5
}
